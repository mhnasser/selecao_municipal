{
 "cells": [
  {
   "cell_type": "markdown",
   "id": "fc36524a",
   "metadata": {},
   "source": [
    "### Imports"
   ]
  },
  {
   "cell_type": "code",
   "execution_count": 1,
   "id": "3cdcc4af",
   "metadata": {},
   "outputs": [],
   "source": [
    "import pandas as pd\n",
    "import numpy as np\n",
    "import seaborn as sns\n",
    "import matplotlib.pyplot as plt\n",
    "from sklearn.preprocessing import Normalizer\n",
    "from sklearn.cluster import KMeans\n",
    "from sklearn.metrics import silhouette_score\n",
    "from sklearn.decomposition import PCA\n",
    "from scipy.spatial.distance import cdist, pdist\n",
    "import warnings\n",
    "import copy\n",
    "warnings.filterwarnings(\"ignore\")\n",
    "%matplotlib inline\n",
    "plt.style.use('ggplot')"
   ]
  },
  {
   "cell_type": "markdown",
   "id": "fc1336b0",
   "metadata": {},
   "source": [
    "### Configs"
   ]
  },
  {
   "cell_type": "markdown",
   "id": "de7a9202",
   "metadata": {},
   "source": [
    "Será utilizados um dicionário para categorizar os estados, casa estado receberá um número condizente com seu PIB, sendo os maiores números os maiores PIBs e os menores números os menores PIBs.\n",
    "\n",
    "Fonte: https://www.ibge.gov.br/explica/pib.php"
   ]
  },
  {
   "cell_type": "code",
   "execution_count": 2,
   "id": "ca9c5499",
   "metadata": {},
   "outputs": [],
   "source": [
    "uf_dict = {'SP':28, 'RJ':27, 'MG':26, 'RS':25, 'PR':24, 'SC':23, 'DF':22, 'BA':21, 'GO':20, 'PE':19,\n",
    "           'ES':18, 'PA':17, 'CE':16, 'MT':15, 'AM':14, 'MA':13, 'MS':12, 'RN':11, 'PB':10, 'AL': 9,\n",
    "           'RO': 8, 'SE': 7, 'PI': 6, 'TO': 5, 'AP': 4, 'AC': 3, 'RR': 2, 'DE':1}"
   ]
  },
  {
   "cell_type": "markdown",
   "id": "46b8ac29",
   "metadata": {},
   "source": [
    "### Modelagem, Avaliação e Otimização"
   ]
  },
  {
   "cell_type": "code",
   "execution_count": 3,
   "id": "88806bf7",
   "metadata": {},
   "outputs": [
    {
     "data": {
      "text/html": [
       "<div>\n",
       "<style scoped>\n",
       "    .dataframe tbody tr th:only-of-type {\n",
       "        vertical-align: middle;\n",
       "    }\n",
       "\n",
       "    .dataframe tbody tr th {\n",
       "        vertical-align: top;\n",
       "    }\n",
       "\n",
       "    .dataframe thead th {\n",
       "        text-align: right;\n",
       "    }\n",
       "</style>\n",
       "<table border=\"1\" class=\"dataframe\">\n",
       "  <thead>\n",
       "    <tr style=\"text-align: right;\">\n",
       "      <th></th>\n",
       "      <th>Município</th>\n",
       "      <th>Área (km²)</th>\n",
       "      <th>Densidade demográfica, 2000</th>\n",
       "      <th>Distância à capital (km)</th>\n",
       "      <th>Esperança de vida ao nascer, 2000</th>\n",
       "      <th>Mortalidade até um ano de idade, 2000</th>\n",
       "      <th>Taxa de fecundidade total, 2000</th>\n",
       "      <th>Percentual de pessoas de 25 anos ou mais analfabetas, 2000</th>\n",
       "      <th>Renda per Capita, 2000</th>\n",
       "      <th>Índice de Gini, 2000</th>\n",
       "      <th>...</th>\n",
       "      <th>Média de anos de estudo das pessoas de 25 anos ou mais de idade, 2000</th>\n",
       "      <th>População de 25 anos ou mais de idade, 1991</th>\n",
       "      <th>População de 25 anos ou mais de idade, 2000</th>\n",
       "      <th>População de 65 anos ou mais de idade, 1991</th>\n",
       "      <th>População de 65 anos ou mais de idade, 2000</th>\n",
       "      <th>População total, 1991</th>\n",
       "      <th>População total, 2000</th>\n",
       "      <th>População urbana, 2000</th>\n",
       "      <th>População rural, 2000</th>\n",
       "      <th>Estado</th>\n",
       "    </tr>\n",
       "  </thead>\n",
       "  <tbody>\n",
       "    <tr>\n",
       "      <th>0</th>\n",
       "      <td>Abadia de Goiás (GO)</td>\n",
       "      <td>136.9</td>\n",
       "      <td>36.3</td>\n",
       "      <td>21.414308</td>\n",
       "      <td>67.58</td>\n",
       "      <td>27.70</td>\n",
       "      <td>2.85</td>\n",
       "      <td>15.64</td>\n",
       "      <td>205.27</td>\n",
       "      <td>0.53</td>\n",
       "      <td>...</td>\n",
       "      <td>4.87</td>\n",
       "      <td>1872</td>\n",
       "      <td>2433</td>\n",
       "      <td>121</td>\n",
       "      <td>227</td>\n",
       "      <td>4227</td>\n",
       "      <td>4971</td>\n",
       "      <td>3096</td>\n",
       "      <td>1875</td>\n",
       "      <td>GO</td>\n",
       "    </tr>\n",
       "    <tr>\n",
       "      <th>1</th>\n",
       "      <td>Abadia dos Dourados (MG)</td>\n",
       "      <td>897.4</td>\n",
       "      <td>7.2</td>\n",
       "      <td>390.876513</td>\n",
       "      <td>72.92</td>\n",
       "      <td>20.51</td>\n",
       "      <td>2.54</td>\n",
       "      <td>14.48</td>\n",
       "      <td>196.36</td>\n",
       "      <td>0.52</td>\n",
       "      <td>...</td>\n",
       "      <td>4.36</td>\n",
       "      <td>3308</td>\n",
       "      <td>3781</td>\n",
       "      <td>354</td>\n",
       "      <td>459</td>\n",
       "      <td>6492</td>\n",
       "      <td>6446</td>\n",
       "      <td>3927</td>\n",
       "      <td>2519</td>\n",
       "      <td>MG</td>\n",
       "    </tr>\n",
       "    <tr>\n",
       "      <th>2</th>\n",
       "      <td>Abadiânia (GO)</td>\n",
       "      <td>1047.7</td>\n",
       "      <td>10.9</td>\n",
       "      <td>78.641435</td>\n",
       "      <td>69.59</td>\n",
       "      <td>22.36</td>\n",
       "      <td>2.77</td>\n",
       "      <td>21.81</td>\n",
       "      <td>168.31</td>\n",
       "      <td>0.56</td>\n",
       "      <td>...</td>\n",
       "      <td>4.24</td>\n",
       "      <td>4241</td>\n",
       "      <td>5918</td>\n",
       "      <td>446</td>\n",
       "      <td>686</td>\n",
       "      <td>9402</td>\n",
       "      <td>11452</td>\n",
       "      <td>7206</td>\n",
       "      <td>4246</td>\n",
       "      <td>GO</td>\n",
       "    </tr>\n",
       "    <tr>\n",
       "      <th>3</th>\n",
       "      <td>Abaetetuba (PA)</td>\n",
       "      <td>1613.9</td>\n",
       "      <td>73.8</td>\n",
       "      <td>51.184552</td>\n",
       "      <td>70.77</td>\n",
       "      <td>25.61</td>\n",
       "      <td>3.15</td>\n",
       "      <td>24.85</td>\n",
       "      <td>102.14</td>\n",
       "      <td>0.59</td>\n",
       "      <td>...</td>\n",
       "      <td>4.28</td>\n",
       "      <td>33554</td>\n",
       "      <td>44897</td>\n",
       "      <td>3792</td>\n",
       "      <td>4688</td>\n",
       "      <td>99989</td>\n",
       "      <td>119152</td>\n",
       "      <td>70843</td>\n",
       "      <td>48309</td>\n",
       "      <td>PA</td>\n",
       "    </tr>\n",
       "    <tr>\n",
       "      <th>4</th>\n",
       "      <td>Abaeté (MG)</td>\n",
       "      <td>1822.4</td>\n",
       "      <td>12.3</td>\n",
       "      <td>172.311549</td>\n",
       "      <td>72.50</td>\n",
       "      <td>21.59</td>\n",
       "      <td>2.41</td>\n",
       "      <td>15.56</td>\n",
       "      <td>253.68</td>\n",
       "      <td>0.58</td>\n",
       "      <td>...</td>\n",
       "      <td>4.78</td>\n",
       "      <td>10163</td>\n",
       "      <td>12406</td>\n",
       "      <td>1084</td>\n",
       "      <td>1595</td>\n",
       "      <td>20689</td>\n",
       "      <td>22360</td>\n",
       "      <td>19022</td>\n",
       "      <td>3338</td>\n",
       "      <td>MG</td>\n",
       "    </tr>\n",
       "  </tbody>\n",
       "</table>\n",
       "<p>5 rows × 25 columns</p>\n",
       "</div>"
      ],
      "text/plain": [
       "                  Município  Área (km²)  Densidade demográfica, 2000  \\\n",
       "0      Abadia de Goiás (GO)       136.9                         36.3   \n",
       "1  Abadia dos Dourados (MG)       897.4                          7.2   \n",
       "2            Abadiânia (GO)      1047.7                         10.9   \n",
       "3           Abaetetuba (PA)      1613.9                         73.8   \n",
       "4               Abaeté (MG)      1822.4                         12.3   \n",
       "\n",
       "   Distância à capital (km)  Esperança de vida ao nascer, 2000  \\\n",
       "0                 21.414308                              67.58   \n",
       "1                390.876513                              72.92   \n",
       "2                 78.641435                              69.59   \n",
       "3                 51.184552                              70.77   \n",
       "4                172.311549                              72.50   \n",
       "\n",
       "   Mortalidade até um ano de idade, 2000  Taxa de fecundidade total, 2000  \\\n",
       "0                                  27.70                             2.85   \n",
       "1                                  20.51                             2.54   \n",
       "2                                  22.36                             2.77   \n",
       "3                                  25.61                             3.15   \n",
       "4                                  21.59                             2.41   \n",
       "\n",
       "   Percentual de pessoas de 25 anos ou mais analfabetas, 2000  \\\n",
       "0                                              15.64            \n",
       "1                                              14.48            \n",
       "2                                              21.81            \n",
       "3                                              24.85            \n",
       "4                                              15.56            \n",
       "\n",
       "   Renda per Capita, 2000  Índice de Gini, 2000  ...  \\\n",
       "0                  205.27                  0.53  ...   \n",
       "1                  196.36                  0.52  ...   \n",
       "2                  168.31                  0.56  ...   \n",
       "3                  102.14                  0.59  ...   \n",
       "4                  253.68                  0.58  ...   \n",
       "\n",
       "   Média de anos de estudo das pessoas de 25 anos ou mais de idade, 2000  \\\n",
       "0                                               4.87                       \n",
       "1                                               4.36                       \n",
       "2                                               4.24                       \n",
       "3                                               4.28                       \n",
       "4                                               4.78                       \n",
       "\n",
       "   População de 25 anos ou mais de idade, 1991  \\\n",
       "0                                         1872   \n",
       "1                                         3308   \n",
       "2                                         4241   \n",
       "3                                        33554   \n",
       "4                                        10163   \n",
       "\n",
       "   População de 25 anos ou mais de idade, 2000  \\\n",
       "0                                         2433   \n",
       "1                                         3781   \n",
       "2                                         5918   \n",
       "3                                        44897   \n",
       "4                                        12406   \n",
       "\n",
       "   População de 65 anos ou mais de idade, 1991  \\\n",
       "0                                          121   \n",
       "1                                          354   \n",
       "2                                          446   \n",
       "3                                         3792   \n",
       "4                                         1084   \n",
       "\n",
       "   População de 65 anos ou mais de idade, 2000  População total, 1991  \\\n",
       "0                                          227                   4227   \n",
       "1                                          459                   6492   \n",
       "2                                          686                   9402   \n",
       "3                                         4688                  99989   \n",
       "4                                         1595                  20689   \n",
       "\n",
       "   População total, 2000  População urbana, 2000  População rural, 2000  \\\n",
       "0                   4971                    3096                   1875   \n",
       "1                   6446                    3927                   2519   \n",
       "2                  11452                    7206                   4246   \n",
       "3                 119152                   70843                  48309   \n",
       "4                  22360                   19022                   3338   \n",
       "\n",
       "   Estado  \n",
       "0      GO  \n",
       "1      MG  \n",
       "2      GO  \n",
       "3      PA  \n",
       "4      MG  \n",
       "\n",
       "[5 rows x 25 columns]"
      ]
     },
     "execution_count": 3,
     "metadata": {},
     "output_type": "execute_result"
    }
   ],
   "source": [
    "df = pd.read_csv('..\\data\\dados_pre_model.csv'); df.head()"
   ]
  },
  {
   "cell_type": "code",
   "execution_count": 4,
   "id": "3039ec2a",
   "metadata": {},
   "outputs": [],
   "source": [
    "# Transformando a coluna estado em dado categórico e removendo a coluna nome dos Municípios, uma vez que não será útil para modelagem\n",
    "dados=copy.deepcopy(df)\n",
    "dados.drop('Município',axis=1, inplace=True)\n",
    "dados['Estado'] = dados['Estado'].apply(lambda x: uf_dict[x])"
   ]
  },
  {
   "cell_type": "code",
   "execution_count": 5,
   "id": "bf76ad96",
   "metadata": {},
   "outputs": [],
   "source": [
    "# Modelagem\n",
    "dados = dados.values\n",
    "pca = PCA(n_components=2).fit_transform(dados)"
   ]
  },
  {
   "cell_type": "code",
   "execution_count": 6,
   "id": "1a540f80",
   "metadata": {},
   "outputs": [
    {
     "data": {
      "image/png": "[encoded data removed]",
      "text/plain": [
       "<Figure size 864x576 with 1 Axes>"
      ]
     },
     "metadata": {},
     "output_type": "display_data"
    }
   ],
   "source": [
    "# Definindo o tamanho dos gráficos\n",
    "fig = plt.figure()\n",
    "fig.set_figheight(8)\n",
    "fig.set_figwidth(12)\n",
    "\n",
    "# Determinando um range de K\n",
    "k_range = range(1,12)\n",
    "\n",
    "# Aplicando o modelo K-Means para cada valor de K (esta célula pode levar bastante tempo para ser executada)\n",
    "k_means_var = [KMeans(n_clusters = k).fit(dados) for k in k_range]\n",
    "\n",
    "# Ajustando o centróide do cluster para cada modelo\n",
    "centroids = [X.cluster_centers_ for X in k_means_var]\n",
    "\n",
    "# Calculando a distância euclidiana de cada ponto de dado para o centróide\n",
    "k_euclid = [cdist(dados, cent, 'euclidean') for cent in centroids]\n",
    "dist = [np.min(ke, axis = 1) for ke in k_euclid]\n",
    "\n",
    "# Soma dos quadrados das distâncias dentro do cluster\n",
    "soma_quadrados_intra_cluster = [sum(d**2) for d in dist]\n",
    "\n",
    "# Soma total dos quadrados\n",
    "soma_total = sum(pdist(dados)**2)/dados.shape[0]\n",
    "\n",
    "# Soma dos quadrados entre clusters\n",
    "soma_quadrados_inter_cluster = soma_total - soma_quadrados_intra_cluster\n",
    "\n",
    "# Plotando o resultado\n",
    "plt.plot(k_range, soma_quadrados_inter_cluster/soma_total * 100, 'b*-')\n",
    "ax = plt.gca()\n",
    "ax.set_ylim([0,100])\n",
    "plt.grid(True)\n",
    "plt.xlabel('Número de Clusters')\n",
    "plt.ylabel('Percentual de Variância Explicada')\n",
    "plt.title('Variância Explicada x Valor de K')\n",
    "\n",
    "fig.tight_layout()\n",
    "plt.show()"
   ]
  },
  {
   "cell_type": "markdown",
   "id": "72ae4fae",
   "metadata": {},
   "source": [
    "Esse gráfico nos da uma visão geral dos valores otimizados de K a serem utilizados, nitidamente os valores de K abaixo de 6 não conseguem explicar a maioria da variância entre os dados.\n",
    "\n",
    "A partir do exposto acima, será feita uma análise para verificar qual o valor ótimo de clusters para que não ocorra sobreposição de grupos."
   ]
  },
  {
   "cell_type": "code",
   "execution_count": 7,
   "id": "89b717d1",
   "metadata": {},
   "outputs": [
    {
     "name": "stdout",
     "output_type": "stream",
     "text": [
      "modelo_k6 :  0.8784487355779815\n",
      "modelo_k7 :  0.8780126217264247\n",
      "modelo_k8 :  0.7786361236478884\n",
      "modelo_k9 :  0.7673307293183365\n",
      "modelo_k10 :  0.7222056250942999\n",
      "modelo_k11 :  0.6241925573602282\n",
      "modelo_k12 :  0.604454177379317\n"
     ]
    }
   ],
   "source": [
    "# Criando um modelo com K = 6, 7, 8, 9, 10, 11 e 12\n",
    "modelos = dict()\n",
    "\n",
    "# Treinando os Modelos\n",
    "for i in range(6,13):\n",
    "    m = KMeans(n_clusters = i)\n",
    "    modelos.update({'modelo_k'+str(i) : m.fit(dados)})\n",
    "\n",
    "# Print dos Resultados\n",
    "for key in modelos.keys():\n",
    "    labels = modelos[key].labels_\n",
    "    print(key,\": \",silhouette_score(dados, labels, metric = 'euclidean'))"
   ]
  },
  {
   "cell_type": "markdown",
   "id": "230f7a73",
   "metadata": {},
   "source": [
    "Visto os resultados expostos acima, o número de clusters escolhido será K=7, ou seja, dividiremos os municípios em 7 grupos diferentes"
   ]
  },
  {
   "cell_type": "code",
   "execution_count": 8,
   "id": "b793f032",
   "metadata": {},
   "outputs": [],
   "source": [
    "model = modelos['modelo_k7']"
   ]
  },
  {
   "cell_type": "code",
   "execution_count": 9,
   "id": "dc5f198f",
   "metadata": {},
   "outputs": [],
   "source": [
    "df['Grupo'] = model.labels_\n",
    "df['Grupo'] = df['Grupo'].apply(lambda x: 'Grupo '+str(x+1))\n",
    "df.head()"
   ]
  },
  {
   "cell_type": "code",
   "execution_count": 11,
   "id": "db7849fc",
   "metadata": {},
   "outputs": [],
   "source": [
    "df_teste = copy.deepcopy(df.drop('Município', axis=1))\n",
    "df_teste['Estado'] = df_teste['Estado'].apply(lambda x: uf_dict[x])\n",
    "df_teste.drop('Grupo',axis=1, inplace=True)\n",
    "df_teste_values = df_teste.values"
   ]
  },
  {
   "cell_type": "code",
   "execution_count": 12,
   "id": "95e25365",
   "metadata": {},
   "outputs": [],
   "source": [
    "df_teste['Grupo'] = model.predict(df_teste.values)"
   ]
  },
  {
   "cell_type": "code",
   "execution_count": 12,
   "id": "7c5ec86f",
   "metadata": {},
   "outputs": [
    {
     "data": {
      "image/png": "[encoded data removed]",
      "text/plain": [
       "<Figure size 864x576 with 1 Axes>"
      ]
     },
     "metadata": {},
     "output_type": "display_data"
    }
   ],
   "source": [
    "fig = plt.figure()\n",
    "fig.set_figheight(8)\n",
    "fig.set_figwidth(12)\n",
    "\n",
    "sns.countplot(x=df['Grupo'])\n",
    "\n",
    "plt.ylabel('N° de Municípios')\n",
    "plt.show()"
   ]
  },
  {
   "cell_type": "code",
   "execution_count": 22,
   "id": "3cff3f35",
   "metadata": {},
   "outputs": [
    {
     "data": {
      "text/plain": [
       "Grupo 1    5288\n",
       "Grupo 5     175\n",
       "Grupo 7      28\n",
       "Grupo 6      10\n",
       "Grupo 3       4\n",
       "Grupo 4       1\n",
       "Grupo 2       1\n",
       "Name: Grupo, dtype: int64"
      ]
     },
     "execution_count": 22,
     "metadata": {},
     "output_type": "execute_result"
    }
   ],
   "source": [
    "df['Grupo'].value_counts()"
   ]
  },
  {
   "cell_type": "code",
   "execution_count": null,
   "id": "8794f455",
   "metadata": {},
   "outputs": [],
   "source": []
  }
 ],
 "metadata": {
  "kernelspec": {
   "display_name": "Python 3",
   "language": "python",
   "name": "python3"
  },
  "language_info": {
   "codemirror_mode": {
    "name": "ipython",
    "version": 3
   },
   "file_extension": ".py",
   "mimetype": "text/x-python",
   "name": "python",
   "nbconvert_exporter": "python",
   "pygments_lexer": "ipython3",
   "version": "3.8.8"
  }
 },
 "nbformat": 4,
 "nbformat_minor": 5
}
